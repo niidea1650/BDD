{
  "nbformat": 4,
  "nbformat_minor": 0,
  "metadata": {
    "colab": {
      "provenance": [],
      "authorship_tag": "ABX9TyOJuz0dyt/knkLiRqRaoGBP",
      "include_colab_link": true
    },
    "kernelspec": {
      "name": "python3",
      "display_name": "Python 3"
    },
    "language_info": {
      "name": "python"
    }
  },
  "cells": [
    {
      "cell_type": "markdown",
      "metadata": {
        "id": "view-in-github",
        "colab_type": "text"
      },
      "source": [
        "<a href=\"https://colab.research.google.com/github/niidea1650/BDD/blob/main/Untitled0.ipynb\" target=\"_parent\"><img src=\"https://colab.research.google.com/assets/colab-badge.svg\" alt=\"Open In Colab\"/></a>"
      ]
    },
    {
      "cell_type": "code",
      "execution_count": 1,
      "metadata": {
        "id": "PrahI76tyiDn",
        "outputId": "b09ef653-34a5-4bbf-bc45-5b10a0a4a204",
        "colab": {
          "base_uri": "https://localhost:8080/"
        }
      },
      "outputs": [
        {
          "output_type": "stream",
          "name": "stdout",
          "text": [
            "['nanha', '123', 'barrioba']\n"
          ]
        }
      ],
      "source": [
        "lista = [\" na n ha\",\"1 2 3\", \"barrio ba\"]\n",
        "\n",
        "lista_sin_espacios = [''.join(palabra.split()) for palabra in lista]\n",
        "\n",
        "print(lista_sin_espacios)"
      ]
    }
  ]
}