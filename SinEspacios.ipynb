{
  "nbformat": 4,
  "nbformat_minor": 0,
  "metadata": {
    "colab": {
      "provenance": [],
      "authorship_tag": "ABX9TyOw4oXEiYtVxhAAi/4HRImh",
      "include_colab_link": true
    },
    "kernelspec": {
      "name": "python3",
      "display_name": "Python 3"
    },
    "language_info": {
      "name": "python"
    }
  },
  "cells": [
    {
      "cell_type": "markdown",
      "metadata": {
        "id": "view-in-github",
        "colab_type": "text"
      },
      "source": [
        "<a href=\"https://colab.research.google.com/github/niidea1650/BDD/blob/main/SinEspacios.ipynb\" target=\"_parent\"><img src=\"https://colab.research.google.com/assets/colab-badge.svg\" alt=\"Open In Colab\"/></a>"
      ]
    },
    {
      "cell_type": "code",
      "execution_count": 2,
      "metadata": {
        "id": "PrahI76tyiDn",
        "colab": {
          "base_uri": "https://localhost:8080/"
        },
        "outputId": "e2329736-0110-4ce1-b945-4e4268179a45"
      },
      "outputs": [
        {
          "output_type": "stream",
          "name": "stdout",
          "text": [
            "['nanha', '123', 'barrioba']\n"
          ]
        }
      ],
      "source": [
        "def elimar_espacios(lista):\n",
        "  lista_sin_espacios = [''.join(palabra.split()) for palabra in lista]\n",
        "  return(lista_sin_espacios)\n",
        "\n",
        "lista = [\" na n ha\",\"1 2 3\", \"barrio ba\"]\n",
        "resultado = elimar_espacios(lista)\n",
        "print(resultado)\n",
        "\n"
      ]
    }
  ]
}